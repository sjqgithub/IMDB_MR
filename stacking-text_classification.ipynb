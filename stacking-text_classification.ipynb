{
 "cells": [
  {
   "cell_type": "code",
   "execution_count": 1,
   "metadata": {},
   "outputs": [],
   "source": [
    "import sys\n",
    "sys.path.insert(0, '..')\n",
    "import os\n",
    "\n",
    "import numpy as np\n",
    "import pandas as pd"
   ]
  },
  {
   "cell_type": "code",
   "execution_count": 2,
   "metadata": {},
   "outputs": [],
   "source": [
    "import zipfile\n",
    "with zipfile.ZipFile('./data/labeledTrainData.tsv.zip', 'r') as z:\n",
    "    z.extractall('./data/')"
   ]
  },
  {
   "cell_type": "code",
   "execution_count": 3,
   "metadata": {},
   "outputs": [],
   "source": [
    "data_train = pd.read_csv('./data/labeledTrainData.tsv', sep='\\t')"
   ]
  },
  {
   "cell_type": "code",
   "execution_count": 4,
   "metadata": {},
   "outputs": [
    {
     "name": "stdout",
     "output_type": "stream",
     "text": [
      "(25000, 3)\n"
     ]
    },
    {
     "data": {
      "text/html": [
       "<div>\n",
       "<style scoped>\n",
       "    .dataframe tbody tr th:only-of-type {\n",
       "        vertical-align: middle;\n",
       "    }\n",
       "\n",
       "    .dataframe tbody tr th {\n",
       "        vertical-align: top;\n",
       "    }\n",
       "\n",
       "    .dataframe thead th {\n",
       "        text-align: right;\n",
       "    }\n",
       "</style>\n",
       "<table border=\"1\" class=\"dataframe\">\n",
       "  <thead>\n",
       "    <tr style=\"text-align: right;\">\n",
       "      <th></th>\n",
       "      <th>id</th>\n",
       "      <th>sentiment</th>\n",
       "      <th>review</th>\n",
       "    </tr>\n",
       "  </thead>\n",
       "  <tbody>\n",
       "    <tr>\n",
       "      <th>0</th>\n",
       "      <td>5814_8</td>\n",
       "      <td>1</td>\n",
       "      <td>With all this stuff going down at the moment w...</td>\n",
       "    </tr>\n",
       "    <tr>\n",
       "      <th>1</th>\n",
       "      <td>2381_9</td>\n",
       "      <td>1</td>\n",
       "      <td>\\The Classic War of the Worlds\\\" by Timothy Hi...</td>\n",
       "    </tr>\n",
       "    <tr>\n",
       "      <th>2</th>\n",
       "      <td>7759_3</td>\n",
       "      <td>0</td>\n",
       "      <td>The film starts with a manager (Nicholas Bell)...</td>\n",
       "    </tr>\n",
       "    <tr>\n",
       "      <th>3</th>\n",
       "      <td>3630_4</td>\n",
       "      <td>0</td>\n",
       "      <td>It must be assumed that those who praised this...</td>\n",
       "    </tr>\n",
       "    <tr>\n",
       "      <th>4</th>\n",
       "      <td>9495_8</td>\n",
       "      <td>1</td>\n",
       "      <td>Superbly trashy and wondrously unpretentious 8...</td>\n",
       "    </tr>\n",
       "  </tbody>\n",
       "</table>\n",
       "</div>"
      ],
      "text/plain": [
       "       id  sentiment                                             review\n",
       "0  5814_8          1  With all this stuff going down at the moment w...\n",
       "1  2381_9          1  \\The Classic War of the Worlds\\\" by Timothy Hi...\n",
       "2  7759_3          0  The film starts with a manager (Nicholas Bell)...\n",
       "3  3630_4          0  It must be assumed that those who praised this...\n",
       "4  9495_8          1  Superbly trashy and wondrously unpretentious 8..."
      ]
     },
     "execution_count": 4,
     "metadata": {},
     "output_type": "execute_result"
    }
   ],
   "source": [
    "print(data_train.shape)\n",
    "data_train.head(5)"
   ]
  },
  {
   "cell_type": "code",
   "execution_count": 5,
   "metadata": {},
   "outputs": [
    {
     "data": {
      "text/plain": [
       "\"With all this stuff going down at the moment with MJ i've started listening to his music, watching the odd documentary here and there, watched The Wiz and watched Moonwalker again. Maybe i just want to get a certain insight into this guy who i thought was really cool in the eighties just to maybe make up my mind whether he is guilty or innocent. Moonwalker is part biography, part feature film which i remember going to see at the cinema when it was originally released. Some of it has subtle messages about MJ's feeling towards the press and also the obvious message of drugs are bad m'kay.<br /><br />Visually impressive but of course this is all about Michael Jackson so unless you remotely like MJ in anyway then you are going to hate this and find it boring. Some may call MJ an egotist for consenting to the making of this movie BUT MJ and most of his fans would say that he made it for the fans which if true is really nice of him.<br /><br />The actual feature film bit when it finally starts is only on for 20 minutes or so excluding the Smooth Criminal sequence and Joe Pesci is convincing as a psychopathic all powerful drug lord. Why he wants MJ dead so bad is beyond me. Because MJ overheard his plans? Nah, Joe Pesci's character ranted that he wanted people to know it is he who is supplying drugs etc so i dunno, maybe he just hates MJ's music.<br /><br />Lots of cool things in this like MJ turning into a car and a robot and the whole Speed Demon sequence. Also, the director must have had the patience of a saint when it came to filming the kiddy Bad sequence as usually directors hate working with one kid let alone a whole bunch of them performing a complex dance scene.<br /><br />Bottom line, this movie is for people who like MJ on one level or another (which i think is most people). If not, then stay away. It does try and give off a wholesome message and ironically MJ's bestest buddy in this movie is a girl! Michael Jackson is truly one of the most talented people ever to grace this planet but is he guilty? Well, with all the attention i've gave this subject....hmmm well i don't know because people can be different behind closed doors, i know this for a fact. He is either an extremely nice but stupid guy or one of the most sickest liars. I hope he is not the latter.\""
      ]
     },
     "execution_count": 5,
     "metadata": {},
     "output_type": "execute_result"
    }
   ],
   "source": [
    "data_train['review'][0]"
   ]
  },
  {
   "cell_type": "code",
   "execution_count": 6,
   "metadata": {},
   "outputs": [
    {
     "data": {
      "text/plain": [
       "25000"
      ]
     },
     "execution_count": 6,
     "metadata": {},
     "output_type": "execute_result"
    }
   ],
   "source": [
    "data_train.review.shape[0]"
   ]
  },
  {
   "cell_type": "code",
   "execution_count": 7,
   "metadata": {},
   "outputs": [],
   "source": [
    "from bs4 import BeautifulSoup\n",
    "import re\n",
    "from nltk.corpus import stopwords\n",
    "\n",
    "def clean_str(string):\n",
    "    \"\"\"\n",
    "    Tokenization/string cleaning for all datasets \n",
    "    Every dataset is lower cased\n",
    "    \"\"\"\n",
    "    string = re.sub(r\"[^A-Za-z0-9(),!?\\'\\`]\", \" \", string)     \n",
    "    string = re.sub(r\"\\'s\", \" \\'s\", string) \n",
    "    string = re.sub(r\"\\'ve\", \" \\'ve\", string) \n",
    "    string = re.sub(r\"n\\'t\", \" n\\'t\", string) \n",
    "    string = re.sub(r\"\\'re\", \" \\'re\", string) \n",
    "    string = re.sub(r\"\\'d\", \" \\'d\", string) \n",
    "    string = re.sub(r\"\\'ll\", \" \\'ll\", string) \n",
    "    string = re.sub(r\",\", \" , \", string) \n",
    "    string = re.sub(r\"!\", \" ! \", string) \n",
    "    string = re.sub(r\"\\(\", \" \\( \", string) \n",
    "    string = re.sub(r\"\\)\", \" \\) \", string) \n",
    "    string = re.sub(r\"\\?\", \" \\? \", string) \n",
    "    string = re.sub(r\"\\s{2,}\", \" \", string)    \n",
    "    return string.strip().lower()\n",
    "\n",
    "stops = set(stopwords.words(\"english\"))  \n",
    "def review_to_words(raw_review):\n",
    "    review_text = BeautifulSoup(raw_review, \"lxml\").get_text()  \n",
    "    words = clean_str(review_text)      \n",
    "    meaningful_words = [w for w in words.split(' ') if not w in stops]   \n",
    "    return(\" \".join(meaningful_words))   "
   ]
  },
  {
   "cell_type": "code",
   "execution_count": 8,
   "metadata": {},
   "outputs": [
    {
     "name": "stdout",
     "output_type": "stream",
     "text": [
      "['i', 'me', 'my', 'myself', 'we', 'our', 'ours', 'ourselves', 'you', \"you're\", \"you've\", \"you'll\", \"you'd\", 'your', 'yours', 'yourself', 'yourselves', 'he', 'him', 'his', 'himself', 'she', \"she's\", 'her', 'hers', 'herself', 'it', \"it's\", 'its', 'itself', 'they', 'them', 'their', 'theirs', 'themselves', 'what', 'which', 'who', 'whom', 'this', 'that', \"that'll\", 'these', 'those', 'am', 'is', 'are', 'was', 'were', 'be', 'been', 'being', 'have', 'has', 'had', 'having', 'do', 'does', 'did', 'doing', 'a', 'an', 'the', 'and', 'but', 'if', 'or', 'because', 'as', 'until', 'while', 'of', 'at', 'by', 'for', 'with', 'about', 'against', 'between', 'into', 'through', 'during', 'before', 'after', 'above', 'below', 'to', 'from', 'up', 'down', 'in', 'out', 'on', 'off', 'over', 'under', 'again', 'further', 'then', 'once', 'here', 'there', 'when', 'where', 'why', 'how', 'all', 'any', 'both', 'each', 'few', 'more', 'most', 'other', 'some', 'such', 'no', 'nor', 'not', 'only', 'own', 'same', 'so', 'than', 'too', 'very', 's', 't', 'can', 'will', 'just', 'don', \"don't\", 'should', \"should've\", 'now', 'd', 'll', 'm', 'o', 're', 've', 'y', 'ain', 'aren', \"aren't\", 'couldn', \"couldn't\", 'didn', \"didn't\", 'doesn', \"doesn't\", 'hadn', \"hadn't\", 'hasn', \"hasn't\", 'haven', \"haven't\", 'isn', \"isn't\", 'ma', 'mightn', \"mightn't\", 'mustn', \"mustn't\", 'needn', \"needn't\", 'shan', \"shan't\", 'shouldn', \"shouldn't\", 'wasn', \"wasn't\", 'weren', \"weren't\", 'won', \"won't\", 'wouldn', \"wouldn't\"]\n"
     ]
    }
   ],
   "source": [
    "print(stopwords.words(\"english\"))"
   ]
  },
  {
   "cell_type": "code",
   "execution_count": 9,
   "metadata": {},
   "outputs": [
    {
     "data": {
      "text/plain": [
       "\"stuff going moment mj 've started listening music , watching odd documentary , watched wiz watched moonwalker maybe want get certain insight guy thought really cool eighties maybe make mind whether guilty innocent moonwalker part biography , part feature film remember going see cinema originally released subtle messages mj 's feeling towards press also obvious message drugs bad m'kay visually impressive course michael jackson unless remotely like mj anyway going hate find boring may call mj egotist consenting making movie mj fans would say made fans true really nice actual feature film bit finally starts 20 minutes excluding smooth criminal sequence joe pesci convincing psychopathic powerful drug lord wants mj dead bad beyond mj overheard plans \\\\? nah , joe pesci 's character ranted wanted people know supplying drugs etc dunno , maybe hates mj 's music lots cool things like mj turning car robot whole speed demon sequence also , director must patience saint came filming kiddy bad sequence usually directors hate working one kid let alone whole bunch performing complex dance scene bottom line , movie people like mj one level another \\\\( think people \\\\) , stay away try give wholesome message ironically mj 's bestest buddy movie girl ! michael jackson truly one talented people ever grace planet guilty \\\\? well , attention 've gave subject hmmm well n't know people different behind closed doors , know fact either extremely nice stupid guy one sickest liars hope latter\""
      ]
     },
     "execution_count": 9,
     "metadata": {},
     "output_type": "execute_result"
    }
   ],
   "source": [
    "review_to_words(data_train['review'][0])"
   ]
  },
  {
   "cell_type": "code",
   "execution_count": 10,
   "metadata": {},
   "outputs": [],
   "source": [
    "texts = []\n",
    "labels = []\n",
    "for idx in range(data_train.review.shape[0]):\n",
    "    text = review_to_words(data_train.review[idx])\n",
    "    texts.append(text)\n",
    "    labels.append(data_train.sentiment[idx])"
   ]
  },
  {
   "cell_type": "code",
   "execution_count": 11,
   "metadata": {},
   "outputs": [
    {
     "data": {
      "text/plain": [
       "\"stuff going moment mj 've started listening music , watching odd documentary , watched wiz watched moonwalker maybe want get certain insight guy thought really cool eighties maybe make mind whether guilty innocent moonwalker part biography , part feature film remember going see cinema originally released subtle messages mj 's feeling towards press also obvious message drugs bad m'kay visually impressive course michael jackson unless remotely like mj anyway going hate find boring may call mj egotist consenting making movie mj fans would say made fans true really nice actual feature film bit finally starts 20 minutes excluding smooth criminal sequence joe pesci convincing psychopathic powerful drug lord wants mj dead bad beyond mj overheard plans \\\\? nah , joe pesci 's character ranted wanted people know supplying drugs etc dunno , maybe hates mj 's music lots cool things like mj turning car robot whole speed demon sequence also , director must patience saint came filming kiddy bad sequence usually directors hate working one kid let alone whole bunch performing complex dance scene bottom line , movie people like mj one level another \\\\( think people \\\\) , stay away try give wholesome message ironically mj 's bestest buddy movie girl ! michael jackson truly one talented people ever grace planet guilty \\\\? well , attention 've gave subject hmmm well n't know people different behind closed doors , know fact either extremely nice stupid guy one sickest liars hope latter\""
      ]
     },
     "execution_count": 11,
     "metadata": {},
     "output_type": "execute_result"
    }
   ],
   "source": [
    "texts[0]"
   ]
  },
  {
   "cell_type": "markdown",
   "metadata": {},
   "source": [
    "# Machine Learning"
   ]
  },
  {
   "cell_type": "markdown",
   "metadata": {},
   "source": [
    "## CountVectorizer"
   ]
  },
  {
   "cell_type": "code",
   "execution_count": 12,
   "metadata": {},
   "outputs": [],
   "source": [
    "from sklearn.feature_extraction.text import CountVectorizer\n",
    "\n",
    "vectorizer = CountVectorizer(max_df=1.0, min_df=5)\n",
    "train_data_features = vectorizer.fit_transform(texts)"
   ]
  },
  {
   "cell_type": "code",
   "execution_count": 16,
   "metadata": {},
   "outputs": [
    {
     "data": {
      "text/plain": [
       "(25000, 27215)"
      ]
     },
     "execution_count": 16,
     "metadata": {},
     "output_type": "execute_result"
    }
   ],
   "source": [
    "train_data_features.shape"
   ]
  },
  {
   "cell_type": "code",
   "execution_count": 132,
   "metadata": {},
   "outputs": [
    {
     "data": {
      "text/plain": [
       "0.8614"
      ]
     },
     "execution_count": 132,
     "metadata": {},
     "output_type": "execute_result"
    }
   ],
   "source": [
    "from sklearn.ensemble import RandomForestClassifier\n",
    "\n",
    "clf = RandomForestClassifier(n_estimators =250, n_jobs=-1)\n",
    "clf.fit(train_data_features[:20000],labels[:20000]).score(train_data_features[20000:], labels[20000:])"
   ]
  },
  {
   "cell_type": "code",
   "execution_count": 124,
   "metadata": {},
   "outputs": [
    {
     "data": {
      "text/plain": [
       "0.863"
      ]
     },
     "execution_count": 124,
     "metadata": {},
     "output_type": "execute_result"
    }
   ],
   "source": [
    "from sklearn.ensemble import AdaBoostClassifier\n",
    "\n",
    "clf = AdaBoostClassifier(n_estimators=500)\n",
    "clf.fit(train_data_features[:20000],labels[:20000]).score(train_data_features[20000:], labels[20000:])"
   ]
  },
  {
   "cell_type": "code",
   "execution_count": 142,
   "metadata": {},
   "outputs": [
    {
     "data": {
      "text/plain": [
       "0.8642"
      ]
     },
     "execution_count": 142,
     "metadata": {},
     "output_type": "execute_result"
    }
   ],
   "source": [
    "clf = AdaBoostClassifier(n_estimators=1000)\n",
    "clf.fit(train_data_features[:20000],labels[:20000]).score(train_data_features[20000:], labels[20000:])"
   ]
  },
  {
   "cell_type": "code",
   "execution_count": 143,
   "metadata": {},
   "outputs": [
    {
     "data": {
      "text/plain": [
       "0.8606"
      ]
     },
     "execution_count": 143,
     "metadata": {},
     "output_type": "execute_result"
    }
   ],
   "source": [
    "clf = AdaBoostClassifier(n_estimators=2000)\n",
    "clf.fit(train_data_features[:20000],labels[:20000]).score(train_data_features[20000:], labels[20000:])"
   ]
  },
  {
   "cell_type": "code",
   "execution_count": 135,
   "metadata": {},
   "outputs": [
    {
     "data": {
      "text/plain": [
       "0.8558"
      ]
     },
     "execution_count": 135,
     "metadata": {},
     "output_type": "execute_result"
    }
   ],
   "source": [
    "from sklearn.ensemble import GradientBoostingClassifier\n",
    "\n",
    "clf = GradientBoostingClassifier(n_estimators=500)\n",
    "clf.fit(train_data_features[:20000],labels[:20000]).score(train_data_features[20000:], labels[20000:])"
   ]
  },
  {
   "cell_type": "code",
   "execution_count": 137,
   "metadata": {},
   "outputs": [
    {
     "data": {
      "text/plain": [
       "0.8676"
      ]
     },
     "execution_count": 137,
     "metadata": {},
     "output_type": "execute_result"
    }
   ],
   "source": [
    "clf = GradientBoostingClassifier(n_estimators=1000)\n",
    "clf.fit(train_data_features[:20000],labels[:20000]).score(train_data_features[20000:], labels[20000:])"
   ]
  },
  {
   "cell_type": "code",
   "execution_count": 138,
   "metadata": {},
   "outputs": [
    {
     "data": {
      "text/plain": [
       "0.8686"
      ]
     },
     "execution_count": 138,
     "metadata": {},
     "output_type": "execute_result"
    }
   ],
   "source": [
    "clf = GradientBoostingClassifier(n_estimators=1500)\n",
    "clf.fit(train_data_features[:20000],labels[:20000]).score(train_data_features[20000:], labels[20000:])"
   ]
  },
  {
   "cell_type": "code",
   "execution_count": 139,
   "metadata": {},
   "outputs": [
    {
     "data": {
      "text/plain": [
       "0.8722"
      ]
     },
     "execution_count": 139,
     "metadata": {},
     "output_type": "execute_result"
    }
   ],
   "source": [
    "clf = GradientBoostingClassifier(n_estimators=2000)\n",
    "clf.fit(train_data_features[:20000],labels[:20000]).score(train_data_features[20000:], labels[20000:])"
   ]
  },
  {
   "cell_type": "code",
   "execution_count": 140,
   "metadata": {},
   "outputs": [
    {
     "data": {
      "text/plain": [
       "0.8748"
      ]
     },
     "execution_count": 140,
     "metadata": {},
     "output_type": "execute_result"
    }
   ],
   "source": [
    "clf = GradientBoostingClassifier(n_estimators=3000)\n",
    "clf.fit(train_data_features[:20000],labels[:20000]).score(train_data_features[20000:], labels[20000:])"
   ]
  },
  {
   "cell_type": "code",
   "execution_count": 141,
   "metadata": {},
   "outputs": [
    {
     "data": {
      "text/plain": [
       "0.8772"
      ]
     },
     "execution_count": 141,
     "metadata": {},
     "output_type": "execute_result"
    }
   ],
   "source": [
    "clf = GradientBoostingClassifier(n_estimators=5000)\n",
    "clf.fit(train_data_features[:20000],labels[:20000]).score(train_data_features[20000:], labels[20000:])"
   ]
  },
  {
   "cell_type": "markdown",
   "metadata": {},
   "source": [
    "## TfidfVectorizer"
   ]
  },
  {
   "cell_type": "code",
   "execution_count": 13,
   "metadata": {},
   "outputs": [],
   "source": [
    "from sklearn.feature_extraction.text import TfidfVectorizer\n",
    "\n",
    "tfidf_vectorizer = TfidfVectorizer(max_df=0.95, min_df=3)\n",
    "tfidf_features = tfidf_vectorizer.fit_transform(texts)"
   ]
  },
  {
   "cell_type": "code",
   "execution_count": 23,
   "metadata": {},
   "outputs": [
    {
     "data": {
      "text/plain": [
       "(25000, 27215)"
      ]
     },
     "execution_count": 23,
     "metadata": {},
     "output_type": "execute_result"
    }
   ],
   "source": [
    "tfidf_features.shape"
   ]
  },
  {
   "cell_type": "code",
   "execution_count": 24,
   "metadata": {},
   "outputs": [
    {
     "name": "stdout",
     "output_type": "stream",
     "text": [
      "[0.8508 0.8534 0.8414 0.8588 0.8526] 0.8514000000000002\n"
     ]
    }
   ],
   "source": [
    "from sklearn.ensemble import RandomForestClassifier\n",
    "from sklearn.model_selection import cross_val_score\n",
    "\n",
    "scores = cross_val_score(RandomForestClassifier(n_estimators = 100),\n",
    "                         tfidf_features, labels, cv=5, n_jobs=-1)\n",
    "print(scores,np.mean(scores))"
   ]
  },
  {
   "cell_type": "code",
   "execution_count": 58,
   "metadata": {},
   "outputs": [
    {
     "name": "stdout",
     "output_type": "stream",
     "text": [
      "[0.8962 0.8986 0.8892 0.9014 0.8902] 0.89512\n"
     ]
    }
   ],
   "source": [
    "from sklearn.linear_model import LogisticRegression\n",
    "\n",
    "scores = cross_val_score(LogisticRegression(C=3),\n",
    "                         tfidf_features, labels, cv=5, n_jobs=-1)\n",
    "print(scores,np.mean(scores))"
   ]
  },
  {
   "cell_type": "code",
   "execution_count": 72,
   "metadata": {},
   "outputs": [
    {
     "name": "stdout",
     "output_type": "stream",
     "text": [
      "[0.8636 0.8678 0.8642 0.8718 0.8596] 0.8654\n"
     ]
    }
   ],
   "source": [
    "from sklearn.naive_bayes import MultinomialNB\n",
    "\n",
    "scores = cross_val_score(MultinomialNB(alpha=1),\n",
    "                         tfidf_features, labels, cv=5, n_jobs=-1)\n",
    "print(scores,np.mean(scores))"
   ]
  },
  {
   "cell_type": "code",
   "execution_count": 84,
   "metadata": {},
   "outputs": [
    {
     "name": "stdout",
     "output_type": "stream",
     "text": [
      "[0.842  0.8448 0.8532 0.8526 0.8432] 0.8471599999999999\n"
     ]
    }
   ],
   "source": [
    "from sklearn.naive_bayes import BernoulliNB\n",
    "\n",
    "scores = cross_val_score(BernoulliNB(alpha=1),\n",
    "                         tfidf_features, labels, cv=5, n_jobs=-1)\n",
    "print(scores,np.mean(scores))"
   ]
  },
  {
   "cell_type": "code",
   "execution_count": 94,
   "metadata": {},
   "outputs": [
    {
     "name": "stdout",
     "output_type": "stream",
     "text": [
      "[0.8124 0.8186 0.8134 0.8256 0.8112] 0.81624\n"
     ]
    }
   ],
   "source": [
    "from sklearn.neighbors import KNeighborsClassifier\n",
    "\n",
    "scores = cross_val_score(KNeighborsClassifier(n_neighbors=100),\n",
    "                         tfidf_features, labels, cv=5, n_jobs=-1)\n",
    "print(scores,np.mean(scores))"
   ]
  },
  {
   "cell_type": "code",
   "execution_count": 107,
   "metadata": {},
   "outputs": [
    {
     "name": "stdout",
     "output_type": "stream",
     "text": [
      "[0.8988 0.8998 0.8872 0.9004 0.8918] 0.8956\n"
     ]
    }
   ],
   "source": [
    "from sklearn.svm import LinearSVC\n",
    "\n",
    "scores = cross_val_score(LinearSVC(C=0.3),\n",
    "                         tfidf_features, labels, cv=5, n_jobs=-1)\n",
    "print(scores,np.mean(scores))"
   ]
  },
  {
   "cell_type": "code",
   "execution_count": 95,
   "metadata": {},
   "outputs": [
    {
     "name": "stdout",
     "output_type": "stream",
     "text": [
      "[0.615  0.6334 0.674  0.6322 0.6326] 0.63744\n"
     ]
    }
   ],
   "source": [
    "from sklearn.svm import SVC\n",
    "\n",
    "scores = cross_val_score(SVC(C=1),\n",
    "                         tfidf_features, labels, cv=5, n_jobs=-1)\n",
    "print(scores,np.mean(scores))"
   ]
  },
  {
   "cell_type": "markdown",
   "metadata": {},
   "source": [
    "## GridSearchCV"
   ]
  },
  {
   "cell_type": "code",
   "execution_count": 49,
   "metadata": {},
   "outputs": [
    {
     "data": {
      "text/plain": [
       "GridSearchCV(cv=None, error_score='raise',\n",
       "       estimator=LogisticRegression(C=1.0, class_weight=None, dual=False, fit_intercept=True,\n",
       "          intercept_scaling=1, max_iter=100, multi_class='ovr', n_jobs=1,\n",
       "          penalty='l2', random_state=None, solver='liblinear', tol=0.0001,\n",
       "          verbose=0, warm_start=False),\n",
       "       fit_params=None, iid=True, n_jobs=-1,\n",
       "       param_grid={'C': array([0.01, 0.1 , 1.  , 2.  , 3.  , 4.  , 5.  ])},\n",
       "       pre_dispatch='2*n_jobs', refit=True, return_train_score='warn',\n",
       "       scoring=None, verbose=0)"
      ]
     },
     "execution_count": 49,
     "metadata": {},
     "output_type": "execute_result"
    }
   ],
   "source": [
    "from sklearn.model_selection import GridSearchCV, cross_val_score\n",
    "Cs = np.array([0.01,0.1,1,2,3,4,5])\n",
    "lr = LogisticRegression()\n",
    "clf = GridSearchCV(estimator=lr, param_grid=dict(C=Cs),\n",
    "                    n_jobs=-1)\n",
    "clf.fit(tfidf_features[:20000], labels[:20000])"
   ]
  },
  {
   "cell_type": "code",
   "execution_count": 50,
   "metadata": {},
   "outputs": [
    {
     "name": "stdout",
     "output_type": "stream",
     "text": [
      "0.8884\n",
      "LogisticRegression(C=5.0, class_weight=None, dual=False, fit_intercept=True,\n",
      "          intercept_scaling=1, max_iter=100, multi_class='ovr', n_jobs=1,\n",
      "          penalty='l2', random_state=None, solver='liblinear', tol=0.0001,\n",
      "          verbose=0, warm_start=False)\n",
      "5.0\n"
     ]
    }
   ],
   "source": [
    "print(clf.best_score_)\n",
    "print(clf.best_estimator_)\n",
    "print(clf.best_estimator_.C)"
   ]
  },
  {
   "cell_type": "code",
   "execution_count": 52,
   "metadata": {},
   "outputs": [
    {
     "data": {
      "text/plain": [
       "GridSearchCV(cv=5, error_score='raise',\n",
       "       estimator=LogisticRegression(C=1.0, class_weight=None, dual=False, fit_intercept=True,\n",
       "          intercept_scaling=1, max_iter=100, multi_class='ovr', n_jobs=1,\n",
       "          penalty='l2', random_state=None, solver='liblinear', tol=0.0001,\n",
       "          verbose=0, warm_start=False),\n",
       "       fit_params=None, iid=True, n_jobs=-1,\n",
       "       param_grid={'C': [1, 3, 5, 8, 10], 'tol': [1e-06, 1e-05, 0.0001, 0.001]},\n",
       "       pre_dispatch='2*n_jobs', refit=True, return_train_score='warn',\n",
       "       scoring=None, verbose=0)"
      ]
     },
     "execution_count": 52,
     "metadata": {},
     "output_type": "execute_result"
    }
   ],
   "source": [
    "parameters = {'C':[1,3,5,8,10], 'tol':[1e-6,1e-5,1e-4,1e-3]}\n",
    "clf = GridSearchCV(lr, parameters, cv=5, n_jobs=-1)\n",
    "clf.fit(tfidf_features[:20000], labels[:20000])"
   ]
  },
  {
   "cell_type": "code",
   "execution_count": 53,
   "metadata": {},
   "outputs": [
    {
     "name": "stdout",
     "output_type": "stream",
     "text": [
      "0.891\n",
      "LogisticRegression(C=5, class_weight=None, dual=False, fit_intercept=True,\n",
      "          intercept_scaling=1, max_iter=100, multi_class='ovr', n_jobs=1,\n",
      "          penalty='l2', random_state=None, solver='liblinear', tol=1e-06,\n",
      "          verbose=0, warm_start=False)\n",
      "5\n"
     ]
    }
   ],
   "source": [
    "print(clf.best_score_)\n",
    "print(clf.best_estimator_)\n",
    "print(clf.best_estimator_.C)"
   ]
  },
  {
   "cell_type": "markdown",
   "metadata": {},
   "source": [
    "## Pipeline"
   ]
  },
  {
   "cell_type": "code",
   "execution_count": 24,
   "metadata": {},
   "outputs": [
    {
     "data": {
      "text/plain": [
       "0.8892"
      ]
     },
     "execution_count": 24,
     "metadata": {},
     "output_type": "execute_result"
    }
   ],
   "source": [
    "from sklearn.pipeline import Pipeline\n",
    "from sklearn.linear_model import LogisticRegression\n",
    "text_clf = Pipeline([('vect', TfidfVectorizer(max_df=0.95, min_df=3)),\n",
    "                     ('clf', LogisticRegression(C=3)),\n",
    "])\n",
    "text_clf.fit(texts[:20000], labels[:20000])  \n",
    "text_clf.score(texts[20000:],labels[20000:])"
   ]
  },
  {
   "cell_type": "code",
   "execution_count": 25,
   "metadata": {},
   "outputs": [],
   "source": [
    "from sklearn.model_selection import GridSearchCV\n",
    "parameters = {'vect__ngram_range': [(1, 1), (1, 2)],\n",
    "              'clf__C': (1,3),\n",
    "}"
   ]
  },
  {
   "cell_type": "code",
   "execution_count": 26,
   "metadata": {},
   "outputs": [
    {
     "name": "stdout",
     "output_type": "stream",
     "text": [
      "0.89045\n",
      "clf__C: 3\n",
      "vect__ngram_range: (1, 2)\n"
     ]
    }
   ],
   "source": [
    "gs_clf = GridSearchCV(text_clf, parameters, n_jobs=-1)\n",
    "gs_clf = gs_clf.fit(texts[:20000], labels[:20000])\n",
    "print(gs_clf.best_score_)\n",
    "for param_name in sorted(parameters.keys()):\n",
    "    print(\"%s: %r\" % (param_name, gs_clf.best_params_[param_name]))"
   ]
  },
  {
   "cell_type": "markdown",
   "metadata": {},
   "source": [
    "## Stacking"
   ]
  },
  {
   "cell_type": "code",
   "execution_count": 145,
   "metadata": {},
   "outputs": [
    {
     "name": "stdout",
     "output_type": "stream",
     "text": [
      "2018-09-26 22:33:18.870093 stack:1/5\n",
      "va acc: 0.8905\n",
      "te acc: 0.8888\n",
      "2018-09-26 22:33:19.202204 stack:2/5\n",
      "va acc: 0.89575\n",
      "te acc: 0.89\n",
      "2018-09-26 22:33:19.523345 stack:3/5\n",
      "va acc: 0.8845\n",
      "te acc: 0.8852\n",
      "2018-09-26 22:33:19.846480 stack:4/5\n",
      "va acc: 0.8895\n",
      "te acc: 0.889\n",
      "2018-09-26 22:33:20.169615 stack:5/5\n",
      "va acc: 0.89175\n",
      "te acc: 0.8844\n",
      "2018-09-26 22:33:20.574535 save lr stack done!\n"
     ]
    }
   ],
   "source": [
    "from sklearn.model_selection import KFold\n",
    "from datetime import datetime\n",
    "\n",
    "def myAcc(y_true,y_pred):\n",
    "    y_pred = np.argmax(y_pred,axis=1)\n",
    "    return np.mean(y_true == y_pred)\n",
    "\n",
    "df_stack = pd.DataFrame(index=range(len(data_train)))\n",
    "\n",
    "tfv = TfidfVectorizer(min_df=5, max_df=0.95, sublinear_tf=True)\n",
    "X_sp = tfv.fit_transform(texts)\n",
    "\n",
    "lable = np.array(data_train['sentiment'])\n",
    "\n",
    "num_class = len(pd.value_counts(data_train['sentiment']))\n",
    "TR = 20000\n",
    "n = 5\n",
    "\n",
    "X = X_sp[:TR]\n",
    "y = lable[:TR]\n",
    "X_te = X_sp[TR:]\n",
    "y_te = lable[TR:]\n",
    "\n",
    "stack = np.zeros((X.shape[0],num_class))\n",
    "stack_te = np.zeros((X_te.shape[0],num_class))\n",
    "\n",
    "for i,(tr,va) in enumerate(KFold(n_splits=n).split(X)):\n",
    "    print('%s stack:%d/%d'%(str(datetime.now()),i+1,n))\n",
    "    clf = LogisticRegression(C=3)\n",
    "    clf.fit(X[tr],y[tr])\n",
    "    y_pred_va = clf.predict_proba(X[va])\n",
    "    y_pred_te = clf.predict_proba(X_te)\n",
    "    print('va acc:',myAcc(y[va],y_pred_va))\n",
    "    print('te acc:',myAcc(y_te,y_pred_te))\n",
    "    stack[va] += y_pred_va\n",
    "    stack_te += y_pred_te\n",
    "stack_te /= n\n",
    "stack_all = np.vstack([stack,stack_te])\n",
    "for i in range(stack_all.shape[1]):\n",
    "    df_stack['tfidf_lr_{}'.format(i)] = stack_all[:,i]\n",
    "df_stack.to_csv('./data/' + 'tfidf_lr.csv',index=None,encoding='utf8')\n",
    "print(datetime.now(),'save lr stack done!')"
   ]
  },
  {
   "cell_type": "code",
   "execution_count": 60,
   "metadata": {},
   "outputs": [
    {
     "name": "stdout",
     "output_type": "stream",
     "text": [
      "2018-09-27 17:41:06.863807 stack:1/5\n",
      "va acc: 0.88875\n",
      "te acc: 0.8802\n",
      "2018-09-27 17:41:07.103139 stack:2/5\n",
      "va acc: 0.8955\n",
      "te acc: 0.8834\n",
      "2018-09-27 17:41:07.342498 stack:3/5\n",
      "va acc: 0.8805\n",
      "te acc: 0.8834\n",
      "2018-09-27 17:41:07.578555 stack:4/5\n",
      "va acc: 0.8825\n",
      "te acc: 0.887\n",
      "2018-09-27 17:41:07.817914 stack:5/5\n",
      "va acc: 0.89125\n",
      "te acc: 0.882\n",
      "2018-09-27 17:41:08.127642 save lr1 stack done!\n"
     ]
    }
   ],
   "source": [
    "from sklearn.model_selection import KFold\n",
    "from datetime import datetime\n",
    "\n",
    "def myAcc(y_true,y_pred):\n",
    "    y_pred = np.argmax(y_pred,axis=1)\n",
    "    return np.mean(y_true == y_pred)\n",
    "\n",
    "df_stack = pd.DataFrame(index=range(len(data_train)))\n",
    "\n",
    "tfv = TfidfVectorizer(min_df=5, max_df=0.95, sublinear_tf=True)\n",
    "X_sp = tfv.fit_transform(texts)\n",
    "\n",
    "lable = np.array(data_train['sentiment'])\n",
    "\n",
    "num_class = len(pd.value_counts(data_train['sentiment']))\n",
    "TR = 20000\n",
    "n = 5\n",
    "\n",
    "X = X_sp[:TR]\n",
    "y = lable[:TR]\n",
    "X_te = X_sp[TR:]\n",
    "y_te = lable[TR:]\n",
    "\n",
    "stack = np.zeros((X.shape[0],num_class))\n",
    "stack_te = np.zeros((X_te.shape[0],num_class))\n",
    "\n",
    "for i,(tr,va) in enumerate(KFold(n_splits=n).split(X)):\n",
    "    print('%s stack:%d/%d'%(str(datetime.now()),i+1,n))\n",
    "    clf = LogisticRegression(C=1)\n",
    "    clf.fit(X[tr],y[tr])\n",
    "    y_pred_va = clf.predict_proba(X[va])\n",
    "    y_pred_te = clf.predict_proba(X_te)\n",
    "    print('va acc:',myAcc(y[va],y_pred_va))\n",
    "    print('te acc:',myAcc(y_te,y_pred_te))\n",
    "    stack[va] += y_pred_va\n",
    "    stack_te += y_pred_te\n",
    "stack_te /= n\n",
    "stack_all = np.vstack([stack,stack_te])\n",
    "for i in range(stack_all.shape[1]):\n",
    "    df_stack['tfidf_lr1_{}'.format(i)] = stack_all[:,i]\n",
    "df_stack.to_csv('./data/' + 'tfidf_lr1.csv',index=None,encoding='utf8')\n",
    "print(datetime.now(),'save lr1 stack done!')"
   ]
  },
  {
   "cell_type": "code",
   "execution_count": 64,
   "metadata": {},
   "outputs": [
    {
     "name": "stdout",
     "output_type": "stream",
     "text": [
      "2018-09-27 17:44:03.558771 stack:1/5\n",
      "va acc: 0.89075\n",
      "te acc: 0.887\n",
      "2018-09-27 17:44:03.922797 stack:2/5\n",
      "va acc: 0.89675\n",
      "te acc: 0.8894\n",
      "2018-09-27 17:44:04.334694 stack:3/5\n",
      "va acc: 0.88325\n",
      "te acc: 0.884\n",
      "2018-09-27 17:44:04.753577 stack:4/5\n",
      "va acc: 0.88925\n",
      "te acc: 0.8896\n",
      "2018-09-27 17:44:05.164477 stack:5/5\n",
      "va acc: 0.8925\n",
      "te acc: 0.8828\n",
      "2018-09-27 17:44:05.690091 save lr2 stack done!\n"
     ]
    }
   ],
   "source": [
    "from sklearn.model_selection import KFold\n",
    "from datetime import datetime\n",
    "\n",
    "def myAcc(y_true,y_pred):\n",
    "    y_pred = np.argmax(y_pred,axis=1)\n",
    "    return np.mean(y_true == y_pred)\n",
    "\n",
    "df_stack = pd.DataFrame(index=range(len(data_train)))\n",
    "\n",
    "tfv = TfidfVectorizer(min_df=5, max_df=0.95, sublinear_tf=True)\n",
    "X_sp = tfv.fit_transform(texts)\n",
    "\n",
    "lable = np.array(data_train['sentiment'])\n",
    "\n",
    "num_class = len(pd.value_counts(data_train['sentiment']))\n",
    "TR = 20000\n",
    "n = 5\n",
    "\n",
    "X = X_sp[:TR]\n",
    "y = lable[:TR]\n",
    "X_te = X_sp[TR:]\n",
    "y_te = lable[TR:]\n",
    "\n",
    "stack = np.zeros((X.shape[0],num_class))\n",
    "stack_te = np.zeros((X_te.shape[0],num_class))\n",
    "\n",
    "for i,(tr,va) in enumerate(KFold(n_splits=n).split(X)):\n",
    "    print('%s stack:%d/%d'%(str(datetime.now()),i+1,n))\n",
    "    clf = LogisticRegression(C=5)\n",
    "    clf.fit(X[tr],y[tr])\n",
    "    y_pred_va = clf.predict_proba(X[va])\n",
    "    y_pred_te = clf.predict_proba(X_te)\n",
    "    print('va acc:',myAcc(y[va],y_pred_va))\n",
    "    print('te acc:',myAcc(y_te,y_pred_te))\n",
    "    stack[va] += y_pred_va\n",
    "    stack_te += y_pred_te\n",
    "stack_te /= n\n",
    "stack_all = np.vstack([stack,stack_te])\n",
    "for i in range(stack_all.shape[1]):\n",
    "    df_stack['tfidf_lr2_{}'.format(i)] = stack_all[:,i]\n",
    "df_stack.to_csv('./data/' + 'tfidf_lr2.csv',index=None,encoding='utf8')\n",
    "print(datetime.now(),'save lr2 stack done!')"
   ]
  },
  {
   "cell_type": "code",
   "execution_count": 47,
   "metadata": {},
   "outputs": [
    {
     "data": {
      "text/html": [
       "<div>\n",
       "<style scoped>\n",
       "    .dataframe tbody tr th:only-of-type {\n",
       "        vertical-align: middle;\n",
       "    }\n",
       "\n",
       "    .dataframe tbody tr th {\n",
       "        vertical-align: top;\n",
       "    }\n",
       "\n",
       "    .dataframe thead th {\n",
       "        text-align: right;\n",
       "    }\n",
       "</style>\n",
       "<table border=\"1\" class=\"dataframe\">\n",
       "  <thead>\n",
       "    <tr style=\"text-align: right;\">\n",
       "      <th></th>\n",
       "      <th>tfidf_lr_0</th>\n",
       "      <th>tfidf_lr_1</th>\n",
       "    </tr>\n",
       "  </thead>\n",
       "  <tbody>\n",
       "    <tr>\n",
       "      <th>0</th>\n",
       "      <td>0.549401</td>\n",
       "      <td>0.450599</td>\n",
       "    </tr>\n",
       "    <tr>\n",
       "      <th>1</th>\n",
       "      <td>0.165720</td>\n",
       "      <td>0.834280</td>\n",
       "    </tr>\n",
       "    <tr>\n",
       "      <th>2</th>\n",
       "      <td>0.723276</td>\n",
       "      <td>0.276724</td>\n",
       "    </tr>\n",
       "    <tr>\n",
       "      <th>3</th>\n",
       "      <td>0.746109</td>\n",
       "      <td>0.253891</td>\n",
       "    </tr>\n",
       "    <tr>\n",
       "      <th>4</th>\n",
       "      <td>0.745254</td>\n",
       "      <td>0.254746</td>\n",
       "    </tr>\n",
       "  </tbody>\n",
       "</table>\n",
       "</div>"
      ],
      "text/plain": [
       "   tfidf_lr_0  tfidf_lr_1\n",
       "0    0.549401    0.450599\n",
       "1    0.165720    0.834280\n",
       "2    0.723276    0.276724\n",
       "3    0.746109    0.253891\n",
       "4    0.745254    0.254746"
      ]
     },
     "execution_count": 47,
     "metadata": {},
     "output_type": "execute_result"
    }
   ],
   "source": [
    "df_stack.head(5)"
   ]
  },
  {
   "cell_type": "code",
   "execution_count": 144,
   "metadata": {},
   "outputs": [
    {
     "name": "stdout",
     "output_type": "stream",
     "text": [
      "2018-09-26 22:32:55.138456 stack:1/5\n",
      "va acc: 0.8605\n",
      "te acc: 0.8546\n",
      "2018-09-26 22:32:55.176384 stack:2/5\n",
      "va acc: 0.863\n",
      "te acc: 0.8588\n",
      "2018-09-26 22:32:55.212259 stack:3/5\n",
      "va acc: 0.86225\n",
      "te acc: 0.8578\n",
      "2018-09-26 22:32:55.248190 stack:4/5\n",
      "va acc: 0.86675\n",
      "te acc: 0.8626\n",
      "2018-09-26 22:32:55.284067 stack:5/5\n",
      "va acc: 0.8665\n",
      "te acc: 0.86\n",
      "2018-09-26 22:32:55.410785 save nb stack done!\n"
     ]
    }
   ],
   "source": [
    "from sklearn.model_selection import KFold\n",
    "from datetime import datetime\n",
    "\n",
    "def myAcc(y_true,y_pred):\n",
    "    y_pred = np.argmax(y_pred,axis=1)\n",
    "    return np.mean(y_true == y_pred)\n",
    "\n",
    "df_stack = pd.DataFrame(index=range(len(data_train)))\n",
    "\n",
    "tfv = TfidfVectorizer(min_df=5, max_df=0.95, sublinear_tf=True)\n",
    "X_sp = tfv.fit_transform(texts)\n",
    "\n",
    "lable = np.array(data_train['sentiment'])\n",
    "\n",
    "num_class = len(pd.value_counts(data_train['sentiment']))\n",
    "TR = 20000\n",
    "n = 5\n",
    "\n",
    "X = X_sp[:TR]\n",
    "y = lable[:TR]\n",
    "X_te = X_sp[TR:]\n",
    "y_te = lable[TR:]\n",
    "\n",
    "stack = np.zeros((X.shape[0],num_class))\n",
    "stack_te = np.zeros((X_te.shape[0],num_class))\n",
    "\n",
    "for i,(tr,va) in enumerate(KFold(n_splits=n).split(X)):\n",
    "    print('%s stack:%d/%d'%(str(datetime.now()),i+1,n))\n",
    "    clf = MultinomialNB(alpha=1)\n",
    "    clf.fit(X[tr],y[tr])\n",
    "    y_pred_va = clf.predict_proba(X[va])\n",
    "    y_pred_te = clf.predict_proba(X_te)\n",
    "    print('va acc:',myAcc(y[va],y_pred_va))\n",
    "    print('te acc:',myAcc(y_te,y_pred_te))\n",
    "    stack[va] += y_pred_va\n",
    "    stack_te += y_pred_te\n",
    "stack_te /= n\n",
    "stack_all = np.vstack([stack,stack_te])\n",
    "for i in range(stack_all.shape[1]):\n",
    "    df_stack['tfidf_nb_{}'.format(i)] = stack_all[:,i]\n",
    "df_stack.to_csv('./data/' + 'tfidf_nb.csv',index=None,encoding='utf8')\n",
    "print(datetime.now(),'save nb stack done!')"
   ]
  },
  {
   "cell_type": "code",
   "execution_count": 146,
   "metadata": {},
   "outputs": [
    {
     "name": "stdout",
     "output_type": "stream",
     "text": [
      "2018-09-26 22:34:12.305507 stack:1/5\n",
      "va acc: 0.86375\n",
      "te acc: 0.864\n",
      "2018-09-26 22:46:45.367303 stack:2/5\n",
      "va acc: 0.868\n",
      "te acc: 0.8646\n",
      "2018-09-26 22:59:23.062333 stack:3/5\n",
      "va acc: 0.85425\n",
      "te acc: 0.8608\n",
      "2018-09-26 23:11:49.302414 stack:4/5\n",
      "va acc: 0.85475\n",
      "te acc: 0.8594\n",
      "2018-09-26 23:24:18.212878 stack:5/5\n",
      "va acc: 0.86725\n",
      "te acc: 0.8624\n",
      "2018-09-26 23:36:51.409984 save nb stack done!\n"
     ]
    }
   ],
   "source": [
    "from sklearn.model_selection import KFold\n",
    "from datetime import datetime\n",
    "\n",
    "def myAcc(y_true,y_pred):\n",
    "    y_pred = np.argmax(y_pred,axis=1)\n",
    "    return np.mean(y_true == y_pred)\n",
    "\n",
    "df_stack = pd.DataFrame(index=range(len(data_train)))\n",
    "\n",
    "tfv = TfidfVectorizer(min_df=5, max_df=0.95, sublinear_tf=True)\n",
    "X_sp = tfv.fit_transform(texts)\n",
    "\n",
    "lable = np.array(data_train['sentiment'])\n",
    "\n",
    "num_class = len(pd.value_counts(data_train['sentiment']))\n",
    "TR = 20000\n",
    "n = 5\n",
    "\n",
    "X = X_sp[:TR]\n",
    "y = lable[:TR]\n",
    "X_te = X_sp[TR:]\n",
    "y_te = lable[TR:]\n",
    "\n",
    "stack = np.zeros((X.shape[0],num_class))\n",
    "stack_te = np.zeros((X_te.shape[0],num_class))\n",
    "\n",
    "for i,(tr,va) in enumerate(KFold(n_splits=n).split(X)):\n",
    "    print('%s stack:%d/%d'%(str(datetime.now()),i+1,n))\n",
    "    clf = GradientBoostingClassifier(n_estimators=2000)\n",
    "    clf.fit(X[tr],y[tr])\n",
    "    y_pred_va = clf.predict_proba(X[va])\n",
    "    y_pred_te = clf.predict_proba(X_te)\n",
    "    print('va acc:',myAcc(y[va],y_pred_va))\n",
    "    print('te acc:',myAcc(y_te,y_pred_te))\n",
    "    stack[va] += y_pred_va\n",
    "    stack_te += y_pred_te\n",
    "stack_te /= n\n",
    "stack_all = np.vstack([stack,stack_te])\n",
    "for i in range(stack_all.shape[1]):\n",
    "    df_stack['tfidf_gbdt_{}'.format(i)] = stack_all[:,i]\n",
    "df_stack.to_csv('./data/' + 'tfidf_gbdt.csv',index=None,encoding='utf8')\n",
    "print(datetime.now(),'save nb stack done!')"
   ]
  },
  {
   "cell_type": "code",
   "execution_count": 148,
   "metadata": {},
   "outputs": [
    {
     "name": "stdout",
     "output_type": "stream",
     "text": [
      "Index(['tfidf_lr_0', 'tfidf_lr_1', 'tfidf_nb_0', 'tfidf_nb_1', 'tfidf_gbdt_0',\n",
      "       'tfidf_gbdt_1'],\n",
      "      dtype='object')\n",
      "[0]\ttrain-merror:0.10065\teval-merror:0.1156\ttrain-acc:0.89935\teval-acc:0.8844\n",
      "Multiple eval metrics have been passed: 'eval-acc' will be used for early stopping.\n",
      "\n",
      "Will train until eval-acc hasn't improved in 25 rounds.\n",
      "[1]\ttrain-merror:0.09905\teval-merror:0.1128\ttrain-acc:0.90095\teval-acc:0.8872\n",
      "[2]\ttrain-merror:0.0977\teval-merror:0.113\ttrain-acc:0.9023\teval-acc:0.887\n",
      "[3]\ttrain-merror:0.0982\teval-merror:0.112\ttrain-acc:0.9018\teval-acc:0.888\n",
      "[4]\ttrain-merror:0.09775\teval-merror:0.112\ttrain-acc:0.90225\teval-acc:0.888\n",
      "[5]\ttrain-merror:0.0975\teval-merror:0.1108\ttrain-acc:0.9025\teval-acc:0.8892\n",
      "[6]\ttrain-merror:0.0974\teval-merror:0.1126\ttrain-acc:0.9026\teval-acc:0.8874\n",
      "[7]\ttrain-merror:0.0975\teval-merror:0.1114\ttrain-acc:0.9025\teval-acc:0.8886\n",
      "[8]\ttrain-merror:0.09795\teval-merror:0.1114\ttrain-acc:0.90205\teval-acc:0.8886\n",
      "[9]\ttrain-merror:0.09765\teval-merror:0.1114\ttrain-acc:0.90235\teval-acc:0.8886\n",
      "[10]\ttrain-merror:0.09755\teval-merror:0.1112\ttrain-acc:0.90245\teval-acc:0.8888\n",
      "[11]\ttrain-merror:0.097\teval-merror:0.1106\ttrain-acc:0.903\teval-acc:0.8894\n",
      "[12]\ttrain-merror:0.09735\teval-merror:0.1098\ttrain-acc:0.90265\teval-acc:0.8902\n",
      "[13]\ttrain-merror:0.09635\teval-merror:0.1104\ttrain-acc:0.90365\teval-acc:0.8896\n",
      "[14]\ttrain-merror:0.09675\teval-merror:0.1102\ttrain-acc:0.90325\teval-acc:0.8898\n",
      "[15]\ttrain-merror:0.09645\teval-merror:0.1108\ttrain-acc:0.90355\teval-acc:0.8892\n",
      "[16]\ttrain-merror:0.09685\teval-merror:0.1108\ttrain-acc:0.90315\teval-acc:0.8892\n",
      "[17]\ttrain-merror:0.09645\teval-merror:0.1116\ttrain-acc:0.90355\teval-acc:0.8884\n",
      "[18]\ttrain-merror:0.0974\teval-merror:0.111\ttrain-acc:0.9026\teval-acc:0.889\n",
      "[19]\ttrain-merror:0.09695\teval-merror:0.1106\ttrain-acc:0.90305\teval-acc:0.8894\n",
      "[20]\ttrain-merror:0.0964\teval-merror:0.1108\ttrain-acc:0.9036\teval-acc:0.8892\n",
      "[21]\ttrain-merror:0.0966\teval-merror:0.1108\ttrain-acc:0.9034\teval-acc:0.8892\n",
      "[22]\ttrain-merror:0.09645\teval-merror:0.1098\ttrain-acc:0.90355\teval-acc:0.8902\n",
      "[23]\ttrain-merror:0.0967\teval-merror:0.1096\ttrain-acc:0.9033\teval-acc:0.8904\n",
      "[24]\ttrain-merror:0.0968\teval-merror:0.1092\ttrain-acc:0.9032\teval-acc:0.8908\n",
      "[25]\ttrain-merror:0.09675\teval-merror:0.1098\ttrain-acc:0.90325\teval-acc:0.8902\n",
      "[26]\ttrain-merror:0.0967\teval-merror:0.1104\ttrain-acc:0.9033\teval-acc:0.8896\n",
      "[27]\ttrain-merror:0.09635\teval-merror:0.1108\ttrain-acc:0.90365\teval-acc:0.8892\n",
      "[28]\ttrain-merror:0.0965\teval-merror:0.1106\ttrain-acc:0.9035\teval-acc:0.8894\n",
      "[29]\ttrain-merror:0.0965\teval-merror:0.1108\ttrain-acc:0.9035\teval-acc:0.8892\n",
      "[30]\ttrain-merror:0.09655\teval-merror:0.1112\ttrain-acc:0.90345\teval-acc:0.8888\n",
      "[31]\ttrain-merror:0.09635\teval-merror:0.1114\ttrain-acc:0.90365\teval-acc:0.8886\n",
      "[32]\ttrain-merror:0.09665\teval-merror:0.1108\ttrain-acc:0.90335\teval-acc:0.8892\n",
      "[33]\ttrain-merror:0.0967\teval-merror:0.1104\ttrain-acc:0.9033\teval-acc:0.8896\n",
      "[34]\ttrain-merror:0.0965\teval-merror:0.1102\ttrain-acc:0.9035\teval-acc:0.8898\n",
      "[35]\ttrain-merror:0.0961\teval-merror:0.1108\ttrain-acc:0.9039\teval-acc:0.8892\n",
      "[36]\ttrain-merror:0.09615\teval-merror:0.1112\ttrain-acc:0.90385\teval-acc:0.8888\n",
      "[37]\ttrain-merror:0.096\teval-merror:0.111\ttrain-acc:0.904\teval-acc:0.889\n",
      "[38]\ttrain-merror:0.0958\teval-merror:0.111\ttrain-acc:0.9042\teval-acc:0.889\n",
      "[39]\ttrain-merror:0.0958\teval-merror:0.1114\ttrain-acc:0.9042\teval-acc:0.8886\n",
      "[40]\ttrain-merror:0.0962\teval-merror:0.1114\ttrain-acc:0.9038\teval-acc:0.8886\n",
      "[41]\ttrain-merror:0.09625\teval-merror:0.112\ttrain-acc:0.90375\teval-acc:0.888\n",
      "[42]\ttrain-merror:0.09585\teval-merror:0.1118\ttrain-acc:0.90415\teval-acc:0.8882\n",
      "[43]\ttrain-merror:0.09605\teval-merror:0.1114\ttrain-acc:0.90395\teval-acc:0.8886\n",
      "[44]\ttrain-merror:0.0961\teval-merror:0.1108\ttrain-acc:0.9039\teval-acc:0.8892\n",
      "[45]\ttrain-merror:0.0963\teval-merror:0.1114\ttrain-acc:0.9037\teval-acc:0.8886\n",
      "[46]\ttrain-merror:0.0962\teval-merror:0.1112\ttrain-acc:0.9038\teval-acc:0.8888\n",
      "[47]\ttrain-merror:0.096\teval-merror:0.1116\ttrain-acc:0.904\teval-acc:0.8884\n",
      "[48]\ttrain-merror:0.0959\teval-merror:0.1122\ttrain-acc:0.9041\teval-acc:0.8878\n",
      "[49]\ttrain-merror:0.09595\teval-merror:0.1116\ttrain-acc:0.90405\teval-acc:0.8884\n",
      "Stopping. Best iteration:\n",
      "[24]\ttrain-merror:0.0968\teval-merror:0.1092\ttrain-acc:0.9032\teval-acc:0.8908\n",
      "\n"
     ]
    }
   ],
   "source": [
    "import xgboost as xgb\n",
    "\n",
    "def xgb_acc_score(preds,dtrain):\n",
    "    y_true = dtrain.get_label()\n",
    "    y_pred = np.argmax(preds,axis=1)\n",
    "    return [('acc',np.mean(y_true == y_pred))]\n",
    "\n",
    "df_lr = pd.read_csv('./data/' + 'tfidf_lr.csv')\n",
    "df_nb = pd.read_csv('./data/' + 'tfidf_nb.csv')\n",
    "df_gbdt = pd.read_csv('./data/' + 'tfidf_gbdt.csv')\n",
    "\n",
    "df = pd.concat([df_lr,df_nb,df_gbdt], axis=1)\n",
    "print(df.columns)\n",
    "\n",
    "lable = np.array(data_train['sentiment'])\n",
    "num_class = len(pd.value_counts(data_train['sentiment']))\n",
    "TR = 20000\n",
    "seed = 10\n",
    "\n",
    "X = df.iloc[:TR]\n",
    "y = lable[:TR]\n",
    "X_te = df.iloc[TR:]\n",
    "y_te = lable[TR:]\n",
    "\n",
    "\n",
    "esr = 25\n",
    "evals = 1\n",
    "n_trees = 1000\n",
    "\n",
    "ss = 0.5\n",
    "mc = 0.8\n",
    "md = 7\n",
    "gm = 1\n",
    "# n_trees = 25\n",
    "\n",
    "params = {\n",
    "    \"objective\": \"multi:softprob\",\n",
    "    \"booster\": \"gbtree\",\n",
    "    # \"eval_metric\": \"merror\",\n",
    "    \"num_class\":num_class,\n",
    "    'max_depth':md,\n",
    "    'min_child_weight':mc,\n",
    "    'subsample':ss,\n",
    "    'colsample_bytree':1,\n",
    "    'gamma':gm,\n",
    "    \"eta\": 0.01,\n",
    "    \"lambda\":0,\n",
    "    'alpha':0,\n",
    "    \"silent\": 1,\n",
    "    # 'seed':seed,\n",
    "}\n",
    "\n",
    "dtrain = xgb.DMatrix(X, y)\n",
    "dvalid = xgb.DMatrix(X_te, y_te)\n",
    "watchlist = [(dtrain, 'train'), (dvalid, 'eval')]\n",
    "bst = xgb.train(params, dtrain, n_trees, evals=watchlist, feval=xgb_acc_score, maximize=True,\n",
    "                early_stopping_rounds=esr, verbose_eval=evals)"
   ]
  },
  {
   "cell_type": "code",
   "execution_count": 63,
   "metadata": {},
   "outputs": [
    {
     "name": "stdout",
     "output_type": "stream",
     "text": [
      "Index(['tfidf_lr_0', 'tfidf_lr_1', 'tfidf_lr1_0', 'tfidf_lr1_1', 'tfidf_lr2_0',\n",
      "       'tfidf_lr2_1'],\n",
      "      dtype='object')\n",
      "[0]\ttrain-merror:0.10205\teval-merror:0.1142\ttrain-acc:0.89795\teval-acc:0.8858\n",
      "Multiple eval metrics have been passed: 'eval-acc' will be used for early stopping.\n",
      "\n",
      "Will train until eval-acc hasn't improved in 25 rounds.\n",
      "[1]\ttrain-merror:0.10165\teval-merror:0.1116\ttrain-acc:0.89835\teval-acc:0.8884\n",
      "[2]\ttrain-merror:0.102\teval-merror:0.1136\ttrain-acc:0.898\teval-acc:0.8864\n",
      "[3]\ttrain-merror:0.10125\teval-merror:0.1126\ttrain-acc:0.89875\teval-acc:0.8874\n",
      "[4]\ttrain-merror:0.1008\teval-merror:0.1126\ttrain-acc:0.8992\teval-acc:0.8874\n",
      "[5]\ttrain-merror:0.10075\teval-merror:0.1128\ttrain-acc:0.89925\teval-acc:0.8872\n",
      "[6]\ttrain-merror:0.10055\teval-merror:0.1136\ttrain-acc:0.89945\teval-acc:0.8864\n",
      "[7]\ttrain-merror:0.1002\teval-merror:0.114\ttrain-acc:0.8998\teval-acc:0.886\n",
      "[8]\ttrain-merror:0.0997\teval-merror:0.1134\ttrain-acc:0.9003\teval-acc:0.8866\n",
      "[9]\ttrain-merror:0.09995\teval-merror:0.1138\ttrain-acc:0.90005\teval-acc:0.8862\n",
      "[10]\ttrain-merror:0.09975\teval-merror:0.1134\ttrain-acc:0.90025\teval-acc:0.8866\n",
      "[11]\ttrain-merror:0.09945\teval-merror:0.114\ttrain-acc:0.90055\teval-acc:0.886\n",
      "[12]\ttrain-merror:0.0991\teval-merror:0.1132\ttrain-acc:0.9009\teval-acc:0.8868\n",
      "[13]\ttrain-merror:0.0993\teval-merror:0.1142\ttrain-acc:0.9007\teval-acc:0.8858\n",
      "[14]\ttrain-merror:0.0993\teval-merror:0.1138\ttrain-acc:0.9007\teval-acc:0.8862\n",
      "[15]\ttrain-merror:0.0993\teval-merror:0.114\ttrain-acc:0.9007\teval-acc:0.886\n",
      "[16]\ttrain-merror:0.09965\teval-merror:0.1134\ttrain-acc:0.90035\teval-acc:0.8866\n",
      "[17]\ttrain-merror:0.0999\teval-merror:0.114\ttrain-acc:0.9001\teval-acc:0.886\n",
      "[18]\ttrain-merror:0.0997\teval-merror:0.1132\ttrain-acc:0.9003\teval-acc:0.8868\n",
      "[19]\ttrain-merror:0.09945\teval-merror:0.1126\ttrain-acc:0.90055\teval-acc:0.8874\n",
      "[20]\ttrain-merror:0.0996\teval-merror:0.1116\ttrain-acc:0.9004\teval-acc:0.8884\n",
      "[21]\ttrain-merror:0.09905\teval-merror:0.1114\ttrain-acc:0.90095\teval-acc:0.8886\n",
      "[22]\ttrain-merror:0.09895\teval-merror:0.1114\ttrain-acc:0.90105\teval-acc:0.8886\n",
      "[23]\ttrain-merror:0.0993\teval-merror:0.1116\ttrain-acc:0.9007\teval-acc:0.8884\n",
      "[24]\ttrain-merror:0.0991\teval-merror:0.1112\ttrain-acc:0.9009\teval-acc:0.8888\n",
      "[25]\ttrain-merror:0.09905\teval-merror:0.1112\ttrain-acc:0.90095\teval-acc:0.8888\n",
      "[26]\ttrain-merror:0.099\teval-merror:0.1116\ttrain-acc:0.901\teval-acc:0.8884\n",
      "[27]\ttrain-merror:0.0991\teval-merror:0.1124\ttrain-acc:0.9009\teval-acc:0.8876\n",
      "[28]\ttrain-merror:0.09905\teval-merror:0.112\ttrain-acc:0.90095\teval-acc:0.888\n",
      "[29]\ttrain-merror:0.09915\teval-merror:0.1118\ttrain-acc:0.90085\teval-acc:0.8882\n",
      "[30]\ttrain-merror:0.09905\teval-merror:0.1122\ttrain-acc:0.90095\teval-acc:0.8878\n",
      "[31]\ttrain-merror:0.09935\teval-merror:0.1126\ttrain-acc:0.90065\teval-acc:0.8874\n",
      "[32]\ttrain-merror:0.09865\teval-merror:0.1128\ttrain-acc:0.90135\teval-acc:0.8872\n",
      "[33]\ttrain-merror:0.0986\teval-merror:0.1126\ttrain-acc:0.9014\teval-acc:0.8874\n",
      "[34]\ttrain-merror:0.09885\teval-merror:0.1128\ttrain-acc:0.90115\teval-acc:0.8872\n",
      "[35]\ttrain-merror:0.09845\teval-merror:0.1126\ttrain-acc:0.90155\teval-acc:0.8874\n",
      "[36]\ttrain-merror:0.09865\teval-merror:0.1128\ttrain-acc:0.90135\teval-acc:0.8872\n",
      "[37]\ttrain-merror:0.09855\teval-merror:0.1134\ttrain-acc:0.90145\teval-acc:0.8866\n",
      "[38]\ttrain-merror:0.0983\teval-merror:0.1134\ttrain-acc:0.9017\teval-acc:0.8866\n",
      "[39]\ttrain-merror:0.09815\teval-merror:0.1138\ttrain-acc:0.90185\teval-acc:0.8862\n",
      "[40]\ttrain-merror:0.0984\teval-merror:0.1142\ttrain-acc:0.9016\teval-acc:0.8858\n",
      "[41]\ttrain-merror:0.09815\teval-merror:0.1136\ttrain-acc:0.90185\teval-acc:0.8864\n",
      "[42]\ttrain-merror:0.09825\teval-merror:0.1134\ttrain-acc:0.90175\teval-acc:0.8866\n",
      "[43]\ttrain-merror:0.0984\teval-merror:0.1138\ttrain-acc:0.9016\teval-acc:0.8862\n",
      "[44]\ttrain-merror:0.09825\teval-merror:0.113\ttrain-acc:0.90175\teval-acc:0.887\n",
      "[45]\ttrain-merror:0.0981\teval-merror:0.1128\ttrain-acc:0.9019\teval-acc:0.8872\n",
      "[46]\ttrain-merror:0.09815\teval-merror:0.1128\ttrain-acc:0.90185\teval-acc:0.8872\n",
      "[47]\ttrain-merror:0.0979\teval-merror:0.1132\ttrain-acc:0.9021\teval-acc:0.8868\n",
      "[48]\ttrain-merror:0.09795\teval-merror:0.1136\ttrain-acc:0.90205\teval-acc:0.8864\n",
      "[49]\ttrain-merror:0.0981\teval-merror:0.1134\ttrain-acc:0.9019\teval-acc:0.8866\n",
      "Stopping. Best iteration:\n",
      "[24]\ttrain-merror:0.0991\teval-merror:0.1112\ttrain-acc:0.9009\teval-acc:0.8888\n",
      "\n"
     ]
    }
   ],
   "source": [
    "import xgboost as xgb\n",
    "\n",
    "def xgb_acc_score(preds,dtrain):\n",
    "    y_true = dtrain.get_label()\n",
    "    y_pred = np.argmax(preds,axis=1)\n",
    "    return [('acc',np.mean(y_true == y_pred))]\n",
    "\n",
    "df_lr = pd.read_csv('./data/' + 'tfidf_lr.csv')\n",
    "df_nb = pd.read_csv('./data/' + 'tfidf_lr1.csv')\n",
    "df_gbdt = pd.read_csv('./data/' + 'tfidf_lr2.csv')\n",
    "\n",
    "df = pd.concat([df_lr,df_nb,df_gbdt], axis=1)\n",
    "print(df.columns)\n",
    "\n",
    "lable = np.array(data_train['sentiment'])\n",
    "num_class = len(pd.value_counts(data_train['sentiment']))\n",
    "TR = 20000\n",
    "seed = 10\n",
    "\n",
    "X = df.iloc[:TR]\n",
    "y = lable[:TR]\n",
    "X_te = df.iloc[TR:]\n",
    "y_te = lable[TR:]\n",
    "\n",
    "\n",
    "esr = 25\n",
    "evals = 1\n",
    "n_trees = 1000\n",
    "\n",
    "ss = 0.5\n",
    "mc = 0.8\n",
    "md = 7\n",
    "gm = 1\n",
    "# n_trees = 25\n",
    "\n",
    "params = {\n",
    "    \"objective\": \"multi:softprob\",\n",
    "    \"booster\": \"gbtree\",\n",
    "    # \"eval_metric\": \"merror\",\n",
    "    \"num_class\":num_class,\n",
    "    'max_depth':md,\n",
    "    'min_child_weight':mc,\n",
    "    'subsample':ss,\n",
    "    'colsample_bytree':1,\n",
    "    'gamma':gm,\n",
    "    \"eta\": 0.01,\n",
    "    \"lambda\":0,\n",
    "    'alpha':0,\n",
    "    \"silent\": 1,\n",
    "    # 'seed':seed,\n",
    "}\n",
    "\n",
    "dtrain = xgb.DMatrix(X, y)\n",
    "dvalid = xgb.DMatrix(X_te, y_te)\n",
    "watchlist = [(dtrain, 'train'), (dvalid, 'eval')]\n",
    "bst = xgb.train(params, dtrain, n_trees, evals=watchlist, feval=xgb_acc_score, maximize=True,\n",
    "                early_stopping_rounds=esr, verbose_eval=evals)"
   ]
  },
  {
   "cell_type": "code",
   "execution_count": null,
   "metadata": {},
   "outputs": [],
   "source": []
  }
 ],
 "metadata": {
  "kernelspec": {
   "display_name": "Python 3",
   "language": "python",
   "name": "python3"
  },
  "language_info": {
   "codemirror_mode": {
    "name": "ipython",
    "version": 3
   },
   "file_extension": ".py",
   "mimetype": "text/x-python",
   "name": "python",
   "nbconvert_exporter": "python",
   "pygments_lexer": "ipython3",
   "version": "3.6.4"
  }
 },
 "nbformat": 4,
 "nbformat_minor": 2
}
